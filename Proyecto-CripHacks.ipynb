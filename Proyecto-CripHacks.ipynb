{
 "metadata": {
  "language_info": {
   "codemirror_mode": {
    "name": "ipython",
    "version": 3
   },
   "file_extension": ".py",
   "mimetype": "text/x-python",
   "name": "python",
   "nbconvert_exporter": "python",
   "pygments_lexer": "ipython3",
   "version": "3.8.5-final"
  },
  "orig_nbformat": 2,
  "kernelspec": {
   "name": "python3",
   "display_name": "Python 3.8.5 32-bit",
   "metadata": {
    "interpreter": {
     "hash": "e623fc58656fb17d4083112d3cf344a9a4f1644885ce0c33284562d152e8beb4"
    }
   }
  }
 },
 "nbformat": 4,
 "nbformat_minor": 2,
 "cells": [
  {
   "source": [
    "Proyecto CripHacks"
   ],
   "cell_type": "markdown",
   "metadata": {}
  },
  {
   "source": [
    "-Karolain Cabrera 201604087-0"
   ],
   "cell_type": "markdown",
   "metadata": {}
  },
  {
   "source": [
    "-Matías Franjola 201604065-K"
   ],
   "cell_type": "markdown",
   "metadata": {}
  },
  {
   "source": [
    "Prueba"
   ],
   "cell_type": "markdown",
   "metadata": {}
  },
  {
   "cell_type": "code",
   "execution_count": 2,
   "metadata": {},
   "outputs": [
    {
     "output_type": "stream",
     "name": "stdout",
     "text": [
      "ingrese la temperatura:\n",
      "[10, 0, 73, 50, 61, 49, 9, 75, 34, 34, 59, 26]\n",
      "KARITO,199°F\n"
     ]
    }
   ],
   "source": [
    "\n",
    "print(\"ingrese la temperatura:\")\n",
    "temperatura=input()\n",
    "p=11\n",
    "q=7\n",
    "n=p*q\n",
    "d=(p-1)*(q-1)\n",
    "k=13\n",
    "j=7\n",
    "\n",
    "caracteres=[\"A\",\"B\",\"C\",\"D\",\"E\",\"F\",\"G\",\"H\",\"I\",\"J\",\"K\",\"L\",\"M\",\"N\",\"O\",\"P\",\"Q\",\"R\",\"S\",\"T\",\"U\",\"V\",\"W\",\"X\",\"Y\",\"Z\",\"1\",\"2\",\"3\",\"4\",\"5\",\"6\",\"7\",\"8\",\"9\",\"0\",\" \",\",\",\"°\"]\n",
    "texto=[]\n",
    "\n",
    "for letra in temperatura:\n",
    "    i=0\n",
    "    for caracter in caracteres:\n",
    "        if (letra==caracter):\n",
    "            texto.append(i)\n",
    "        i+=1\n",
    "\n",
    "textocifrado=[]\n",
    "\n",
    "for t in texto:\n",
    "    cifrado = (t**k) % n\n",
    "    textocifrado.append(cifrado)\n",
    "\n",
    "print(textocifrado)\n",
    "\n",
    "numdescifrado=[]\n",
    "for tc in textocifrado:\n",
    "    descifrado = (tc**j) % n\n",
    "    numdescifrado.append(descifrado)\n",
    "\n",
    "textodescifradol=[]\n",
    "for num in numdescifrado:\n",
    "    textodescifradol.append(caracteres[num])\n",
    "\n",
    "textodescifrado = \"\".join(textodescifradol)\n",
    "print(textodescifrado)"
   ]
  },
  {
   "source": [
    "Cifrado(teniendo n y k ya definidos de antes)"
   ],
   "cell_type": "markdown",
   "metadata": {}
  },
  {
   "cell_type": "code",
   "execution_count": 23,
   "metadata": {},
   "outputs": [],
   "source": [
    "\n",
    "def cifrado(temperatura,n,k):\n",
    "    caracteres=[\"A\",\"B\",\"C\",\"D\",\"E\",\"F\",\"G\",\"H\",\"I\",\"J\",\"K\",\"L\",\"M\",\"N\",\"O\",\"P\",\"Q\",\"R\",\"S\",\"T\",\"U\",\"V\",\"W\",\"X\",\"Y\",\"Z\",\"1\",\"2\",\"3\",\"4\",\"5\",\"6\",\"7\",\"8\",\"9\",\"0\",\" \",\",\",\"°\"]\n",
    "    texto=[]\n",
    "\n",
    "    for letra in temperatura:\n",
    "        i=0\n",
    "        for caracter in caracteres:\n",
    "            if (letra==caracter):\n",
    "                texto.append(i)\n",
    "            i+=1\n",
    "\n",
    "    textocifrado=[]\n",
    "\n",
    "    for t in texto:\n",
    "        cifrado = (t**k) % n\n",
    "        textocifrado.append(cifrado)\n",
    "\n",
    "    return textocifrado"
   ]
  },
  {
   "source": [
    "Descifrado(donde ncifrado es el numero cifrado y n ya está definido anteriormente)"
   ],
   "cell_type": "markdown",
   "metadata": {}
  },
  {
   "cell_type": "code",
   "execution_count": null,
   "metadata": {},
   "outputs": [],
   "source": [
    "def descifrado(textocifrado,n):\n",
    "    caracteres=[\"A\",\"B\",\"C\",\"D\",\"E\",\"F\",\"G\",\"H\",\"I\",\"J\",\"K\",\"L\",\"M\",\"N\",\"O\",\"P\",\"Q\",\"R\",\"S\",\"T\",\"U\",\"V\",\"W\",\"X\",\"Y\",\"Z\",\"1\",\"2\",\"3\",\"4\",\"5\",\"6\",\"7\",\"8\",\"9\",\"0\",\" \",\",\",\"°\"]\n",
    "    print(\"ingrese la llave privada:\")#se solicita la llave privada a quien quiera decifrar el mensaje\n",
    "    j=int(input())\n",
    "\n",
    "    numdescifrado=[]\n",
    "    for tc in textocifrado:\n",
    "        descifrado = (tc**j) % n\n",
    "        numdescifrado.append(descifrado)\n",
    "\n",
    "    textodescifradol=[]\n",
    "    for num in numdescifrado:\n",
    "        textodescifradol.append(caracteres[num])\n",
    "\n",
    "    textodescifrado = \"\".join(textodescifradol)\n",
    "    return textodescifrado"
   ]
  }
 ]
}