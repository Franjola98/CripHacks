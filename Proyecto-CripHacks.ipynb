{
 "metadata": {
  "language_info": {
   "codemirror_mode": {
    "name": "ipython",
    "version": 3
   },
   "file_extension": ".py",
   "mimetype": "text/x-python",
   "name": "python",
   "nbconvert_exporter": "python",
   "pygments_lexer": "ipython3",
   "version": "3.8.5-final"
  },
  "orig_nbformat": 2,
  "kernelspec": {
   "name": "python3",
   "display_name": "Python 3.8.5 32-bit",
   "metadata": {
    "interpreter": {
     "hash": "e623fc58656fb17d4083112d3cf344a9a4f1644885ce0c33284562d152e8beb4"
    }
   }
  }
 },
 "nbformat": 4,
 "nbformat_minor": 2,
 "cells": [
  {
   "source": [
    "Proyecto CripHacks"
   ],
   "cell_type": "markdown",
   "metadata": {}
  },
  {
   "source": [
    "-Karolain Cabrera 201604087-0"
   ],
   "cell_type": "markdown",
   "metadata": {}
  },
  {
   "source": [
    "-Matías Franjola 201604065-K"
   ],
   "cell_type": "markdown",
   "metadata": {}
  },
  {
   "source": [
    "Prueba"
   ],
   "cell_type": "markdown",
   "metadata": {}
  },
  {
   "cell_type": "code",
   "execution_count": 2,
   "metadata": {},
   "outputs": [
    {
     "output_type": "stream",
     "name": "stdout",
     "text": [
      "ingrese la temperatura:\n",
      "[121732, 32768, 214395, 0, 280973, 1024, 161051, 280973, 248832, 0, 272423, 150802, 280973, 28851, 119327, 15488, 135122]\n",
      "[49, 8, 14, 0, 64, 4, 11, 64, 12, 0, 18, 65, 64, 55, 58, 66, 29]\n",
      "Viña el mar, 25°C\n"
     ]
    }
   ],
   "source": [
    "pdh=65267\n",
    "g=5000\n",
    "b=36389\n",
    "a=3\n",
    "A=((g**a) % pdh)\n",
    "\n",
    "\n",
    "\n",
    "print(\"ingrese la temperatura:\")\n",
    "temperatura=input()\n",
    "p=503\n",
    "q=643\n",
    "n=p*q\n",
    "d=(p-1)*(q-1)\n",
    "k=5\n",
    "\n",
    "caracteres=[\"a\",\"b\",\"c\",\"d\",\"e\",\"f\",\"g\",\"h\",\"i\",\"j\",\"k\",\"l\",\"m\",\"n\",\"ñ\",\"o\",\"p\",\"q\",\"r\",\"s\",\"t\",\"u\",\"v\",\"w\",\"x\",\"y\",\"z\",\"A\",\"B\",\"C\",\"D\",\"E\",\"F\",\"G\",\"H\",\"I\",\"J\",\"K\",\"L\",\"M\",\"N\",\"Ñ\",\"O\",\"P\",\"Q\",\"R\",\"S\",\"T\",\"U\",\"V\",\"W\",\"X\",\"Y\",\"Z\",\"1\",\"2\",\"3\",\"4\",\"5\",\"6\",\"7\",\"8\",\"9\",\"0\",\" \",\",\",\"°\",\"-\",\"/\",\".\"]\n",
    "texto=[]\n",
    "\n",
    "for letra in temperatura:\n",
    "    i=0\n",
    "    for caracter in caracteres:\n",
    "        if (letra==caracter):\n",
    "            texto.append(i)\n",
    "        i+=1\n",
    "\n",
    "textocifrado=[]\n",
    "\n",
    "for t in texto:\n",
    "    cifrado = (t**k) % n\n",
    "    textocifrado.append(cifrado)\n",
    "\n",
    "print(textocifrado)\n",
    "\n",
    "numdescifrado=[]\n",
    "Kb=((A**b) % pdh)\n",
    "for tc in textocifrado:\n",
    "    descifrado = (tc**Kb) % n\n",
    "    numdescifrado.append(descifrado)\n",
    "\n",
    "print(numdescifrado)\n",
    "textodescifradol=[]\n",
    "for num in numdescifrado:\n",
    "    textodescifradol.append(caracteres[num])\n",
    "\n",
    "textodescifrado = \"\".join(textodescifradol)\n",
    "print(textodescifrado)"
   ]
  },
  {
   "source": [
    "Codigo del sensor"
   ],
   "cell_type": "markdown",
   "metadata": {}
  },
  {
   "cell_type": "code",
   "execution_count": 23,
   "metadata": {},
   "outputs": [],
   "source": [
    "import random\n",
    "\n",
    "temp = random.randint(15, 28)\n",
    "pdh=65267\n",
    "g=5000\n",
    "a=3\n",
    "A=((g**a) % pdh)\n",
    "\n",
    "ciudad = 'Viña del Mar'\n",
    "\n",
    "f = open ('temperatura.txt','w')\n",
    "f.write(str(A)+\"\\n\")\n",
    "\n",
    "temperatura = \"La temperatura en \"+ ciudad + \" es de \" + str(temp) +\"°C.\"\n",
    "p=503\n",
    "q=643\n",
    "n=p*q\n",
    "d=(p-1)*(q-1)\n",
    "k=5\n",
    "\n",
    "caracteres=[\"a\",\"b\",\"c\",\"d\",\"e\",\"f\",\"g\",\"h\",\"i\",\"j\",\"k\",\"l\",\"m\",\"n\",\"ñ\",\"o\",\"p\",\"q\",\"r\",\"s\",\"t\",\"u\",\"v\",\"w\",\"x\",\"y\",\"z\",\"A\",\"B\",\"C\",\"D\",\"E\",\"F\",\"G\",\"H\",\"I\",\"J\",\"K\",\"L\",\"M\",\"N\",\"Ñ\",\"O\",\"P\",\"Q\",\"R\",\"S\",\"T\",\"U\",\"V\",\"W\",\"X\",\"Y\",\"Z\",\"1\",\"2\",\"3\",\"4\",\"5\",\"6\",\"7\",\"8\",\"9\",\"0\",\" \",\",\",\"°\",\"-\",\"/\",\".\"]\n",
    "texto=[]\n",
    "\n",
    "print(\"Encriptando mensaje..\\n\")\n",
    "for letra in temperatura:\n",
    "    i=0\n",
    "    for caracter in caracteres:\n",
    "        if (letra==caracter):\n",
    "            texto.append(i)\n",
    "        i+=1\n",
    "print(\"Mensaje encriptado..\\n\")\n",
    "textocifrado=[]\n",
    "\n",
    "print(\"Creando archivo de texto..\\n\")\n",
    "for t in texto:\n",
    "    cifrado = (t**k) % n\n",
    "    textocifrado.append(cifrado)\n",
    "    f.write(\"%s\\n\" % cifrado)\n",
    "print(\"Archivo de texto creado..\\n\")\n",
    "f.close"
   ]
  },
  {
   "source": [
    "Codigo del receptor"
   ],
   "cell_type": "markdown",
   "metadata": {}
  },
  {
   "cell_type": "code",
   "execution_count": null,
   "metadata": {},
   "outputs": [],
   "source": [
    "pdh=65267\n",
    "g=5000\n",
    "b=36389\n",
    "\n",
    "caracteres=[\"a\",\"b\",\"c\",\"d\",\"e\",\"f\",\"g\",\"h\",\"i\",\"j\",\"k\",\"l\",\"m\",\"n\",\"ñ\",\"o\",\"p\",\"q\",\"r\",\"s\",\"t\",\"u\",\"v\",\"w\",\"x\",\"y\",\"z\",\"A\",\"B\",\"C\",\"D\",\"E\",\"F\",\"G\",\"H\",\"I\",\"J\",\"K\",\"L\",\"M\",\"N\",\"Ñ\",\"O\",\"P\",\"Q\",\"R\",\"S\",\"T\",\"U\",\"V\",\"W\",\"X\",\"Y\",\"Z\",\"1\",\"2\",\"3\",\"4\",\"5\",\"6\",\"7\",\"8\",\"9\",\"0\",\" \",\",\",\"°\",\"-\",\"/\",\".\"]\n",
    "p=503\n",
    "q=643\n",
    "n=p*q\n",
    "d=(p-1)*(q-1)\n",
    "A=0\n",
    "Kb=0\n",
    "textodescifrado=[]\n",
    "print(\"Leyendo texto..\")\n",
    "texto = open ('temperatura.txt','r')\n",
    "\n",
    "i=0\n",
    "print(\"Descifrando texto..\")\n",
    "for t in texto:\n",
    "    if i==0:\n",
    "        A=int(t)\n",
    "        Kb=((A**b) % pdh)\n",
    "    else:\n",
    "        t2=int(t)\n",
    "        descifrado = (t2**Kb) % n\n",
    "        textodescifrado.append(descifrado)\n",
    "    i+=1\n",
    "\n",
    "\n",
    "print(textodescifrado)\n",
    "\n",
    "textodescifradol=[]\n",
    "for num in textodescifrado:\n",
    "    textodescifradol.append(caracteres[num])\n",
    "\n",
    "print(\"Texto descifrado..\")\n",
    "textodescifrado = \"\".join(textodescifradol)\n",
    "print(textodescifrado)"
   ]
  },
  {
   "source": [
    "Verificación del grupo cryptotel:\n",
    "Se puede ver que posee un cifrado y descifrado correcto, pero su proyecto depende de una buena conexión a internet del sensor y del receptor para poder subir el archivo y para descargarlo respectivamente. Además depende de una persona que suba el archivo de texto al gitlab."
   ],
   "cell_type": "markdown",
   "metadata": {}
  },
  {
   "source": [
    "repositorio proyecto:\n",
    "https://github.com/Franjola98/CripHacks"
   ],
   "cell_type": "markdown",
   "metadata": {}
  }
 ]
}